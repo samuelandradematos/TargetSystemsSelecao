{
 "cells": [
  {
   "cell_type": "markdown",
   "metadata": {},
   "source": [
    "1) Observe o trecho de código abaixo: int INDICE = 13, SOMA = 0, K = 0;\n",
    "Enquanto K < INDICE faça { K = K + 1; SOMA = SOMA + K; }\n",
    "Imprimir(SOMA);\n",
    "Ao final do processamento, qual será o valor da variável SOMA?"
   ]
  },
  {
   "cell_type": "code",
   "execution_count": 4,
   "metadata": {},
   "outputs": [
    {
     "name": "stdout",
     "output_type": "stream",
     "text": [
      "Soma = 0\n",
      "Soma = 1\n",
      "Soma = 3\n",
      "Soma = 6\n",
      "Soma = 10\n",
      "Soma = 15\n",
      "Soma = 21\n",
      "Soma = 28\n",
      "Soma = 36\n",
      "Soma = 45\n",
      "Soma = 55\n",
      "Soma = 66\n",
      "Soma = 78\n",
      "O volar final de soma é: 78\n"
     ]
    }
   ],
   "source": [
    "indice = 13\n",
    "soma = 0\n",
    "k = 0\n",
    "\n",
    "for k in range(indice):\n",
    "    soma = soma + k\n",
    "    print(f'Soma = {soma}')\n",
    "\n",
    "print(f'O volar final de soma é: {soma}')"
   ]
  }
 ],
 "metadata": {
  "kernelspec": {
   "display_name": "Python 3",
   "language": "python",
   "name": "python3"
  },
  "language_info": {
   "codemirror_mode": {
    "name": "ipython",
    "version": 3
   },
   "file_extension": ".py",
   "mimetype": "text/x-python",
   "name": "python",
   "nbconvert_exporter": "python",
   "pygments_lexer": "ipython3",
   "version": "3.12.3"
  }
 },
 "nbformat": 4,
 "nbformat_minor": 2
}
