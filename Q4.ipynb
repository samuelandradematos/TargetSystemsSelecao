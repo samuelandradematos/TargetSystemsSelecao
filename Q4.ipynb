{
 "cells": [
  {
   "cell_type": "markdown",
   "metadata": {},
   "source": [
    "4) Dado o valor de faturamento mensal de uma distribuidora, detalhado por estado:\n",
    "• SP – R$67.836,43\n",
    "• RJ – R$36.678,66\n",
    "• MG – R$29.229,88\n",
    "• ES – R$27.165,48\n",
    "• Outros – R$19.849,53\n",
    "Escreva um programa na linguagem que desejar onde calcule o percentual de representação que cada estado teve dentro do valor total mensal da distribuidora.  "
   ]
  },
  {
   "cell_type": "code",
   "execution_count": 2,
   "metadata": {},
   "outputs": [
    {
     "name": "stdout",
     "output_type": "stream",
     "text": [
      "SP = 37.53%\n",
      "RJ = 20.29%\n",
      "MG = 16.17%\n",
      "ES = 15.03%\n",
      "Outros = 10.98%\n"
     ]
    }
   ],
   "source": [
    "data = [{'UF' : 'SP', 'Faturamento': 67836.43},{'UF' : 'RJ', 'Faturamento': 36678.66},{'UF' : 'MG', 'Faturamento': 29229.88},{'UF' : 'ES', 'Faturamento': 27165.48},{'UF' : 'Outros', 'Faturamento': 19849.53}]\n",
    "total = 0\n",
    "\n",
    "for i in data:\n",
    "    total += i['Faturamento']\n",
    "\n",
    "for i in data:\n",
    "    print(f\"{i['UF']} = {i['Faturamento']/total*100:.2f}%\")"
   ]
  }
 ],
 "metadata": {
  "kernelspec": {
   "display_name": "Python 3",
   "language": "python",
   "name": "python3"
  },
  "language_info": {
   "codemirror_mode": {
    "name": "ipython",
    "version": 3
   },
   "file_extension": ".py",
   "mimetype": "text/x-python",
   "name": "python",
   "nbconvert_exporter": "python",
   "pygments_lexer": "ipython3",
   "version": "3.12.3"
  }
 },
 "nbformat": 4,
 "nbformat_minor": 2
}
