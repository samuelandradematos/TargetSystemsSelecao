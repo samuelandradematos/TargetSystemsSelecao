{
 "cells": [
  {
   "cell_type": "markdown",
   "metadata": {},
   "source": [
    "3) Dado um vetor que guarda o valor de faturamento diário de uma distribuidora, faça um programa, na linguagem que desejar, que calcule e retorne:\n",
    "• O menor valor de faturamento ocorrido em um dia do mês;\n",
    "• O maior valor de faturamento ocorrido em um dia do mês;\n",
    "• Número de dias no mês em que o valor de faturamento diário foi superior à média mensal.\n",
    "\n",
    "IMPORTANTE:\n",
    "a) Usar o json ou xml disponível como fonte dos dados do faturamento mensal;\n",
    "b) Podem existir dias sem faturamento, como nos finais de semana e feriados. Estes dias devem ser ignorados no cálculo da média;"
   ]
  },
  {
   "cell_type": "code",
   "execution_count": 87,
   "metadata": {},
   "outputs": [
    {
     "name": "stdout",
     "output_type": "stream",
     "text": [
      "Menor valor de faturamento ocorrido em um dia do mês 0.0\n",
      "Maior valor de faturamento ocorrido em um dia do mês: 48924.2448\n",
      "Número de dias no mês em que o valor de faturamento diário foi superior à média mensal: 11\n"
     ]
    }
   ],
   "source": [
    "import numpy as np\n",
    "import xml\n",
    "import json\n",
    "from collections import ChainMap\n",
    "\n",
    "with open('dados.json', 'r') as f:\n",
    "    f_contents = json.load(f)\n",
    "\n",
    "faturamento_raw = f_contents\n",
    "valor = []\n",
    "dia = []\n",
    "qtdDias = 0\n",
    "\n",
    "for i in faturamento_raw:\n",
    "    valor.append(i['valor'])\n",
    "    dia.append(i['dia'])\n",
    "\n",
    "print(f'Menor valor de faturamento ocorrido em um dia do mês {min(valor)}')\n",
    "print(f'Maior valor de faturamento ocorrido em um dia do mês: {max(valor)}')\n",
    "\n",
    "valor[valor == 0] = np.nan\n",
    "\n",
    "for i in valor:\n",
    "    if i > np.nanmean(valor):\n",
    "        qtdDias += 1\n",
    "\n",
    "print(f'Número de dias no mês em que o valor de faturamento diário foi superior à média mensal: {qtdDias}')\n",
    "\n"
   ]
  }
 ],
 "metadata": {
  "kernelspec": {
   "display_name": "Python 3",
   "language": "python",
   "name": "python3"
  },
  "language_info": {
   "codemirror_mode": {
    "name": "ipython",
    "version": 3
   },
   "file_extension": ".py",
   "mimetype": "text/x-python",
   "name": "python",
   "nbconvert_exporter": "python",
   "pygments_lexer": "ipython3",
   "version": "3.12.3"
  }
 },
 "nbformat": 4,
 "nbformat_minor": 2
}
